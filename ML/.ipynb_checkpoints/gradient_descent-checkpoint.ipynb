{
 "cells": [
  {
   "cell_type": "markdown",
   "metadata": {},
   "source": [
    "# Gradient Descent\n",
    "\n",
    "<img src=\"https://i2.wp.com/lh6.ggpht.com/-5RFMcz2bzWI/VA9NuUkB_vI/AAAAAAAAAdM/_DqqYO0nbX4/im2_thumb%25255B1%25255D.png\"></img>\n",
    "\n",
    "Gradient descent is the most important algorithm in machine learning (ML). It is used in almost all the ML models and is what differentiate traditional statistics from ML. By optimizing the parameters of the gradient descent we optimize the predictive model.\n",
    " \n",
    "To understand gradient descent, we need to define some important concepts.\n",
    " \n",
    "## Loss function\n",
    "\n",
    "The loss function, also known as the cost function, is the measure we will use to calibrate the model. There are many types of loss functions. The selection of the loss function depends on the algorithm we want to run, and the question we want to answer (how we want to model the Y).\n",
    " \n",
    "One of the most commonly used loss function is the Mean Squared Error (MSE). The formula of the MSE is:\n",
    " \n",
    "<b> \n",
    " MSE = Σ(y – pred)² / n\n",
    "</b> \n",
    " \n",
    "This mean that we take difference between the real y and the predicted-y, square each of them, and sum all and divide by the number of rows in the dataset.\n"
   ]
  },
  {
   "cell_type": "code",
   "execution_count": 4,
   "metadata": {},
   "outputs": [],
   "source": [
    "loss_function <- function(y,pred) { \n",
    "    return( sum((y - pred)^2)/length(y) )\n",
    "}"
   ]
  },
  {
   "cell_type": "markdown",
   "metadata": {},
   "source": [
    "\n",
    "## Global Minima\n",
    "The global minima of the loss function is defined as the smallest value of the loss function. In other words, we find the global minima when we reduce the error at the lowest possible value.\n",
    "\n",
    "<img src=\"https://cdn-images-1.medium.com/max/602/0*gWBpMIJ7yRVAaAIA.\"></img>\n",
    "\n",
    "## Learning rate\n",
    " \n",
    "The learning rate can be defined as the number of 'jumps' we make when trying to reduce the global minima while calculating the optimal values for the weights. We have to be careful with this parameter because a high value may miss out the global minima, while a very low value will increase a lot the calculation time. The learning rate parameter in many functions is called as <b> alpha </b>.\n",
    "\n",
    "<table><tr>\n",
    "    <td cols=\"2\"> \n",
    "        <h2> Problems caused by too low or high learning rates </h2> \n",
    "    </td>\n",
    "    </tr><tr>\n",
    "    <td> \n",
    "        <img src=\"https://encrypted-tbn0.gstatic.com/images?q=tbn:ANd9GcSDZHOlr8UTVvLoA3adcxB7FQsVPusBU7lPSsVB-lunzaEPwahAQg\" width=\"400\" height=\"200\"></img> \n",
    "        <br> <h4> High Learning Rate </h4>\n",
    "    </td>\n",
    "    <td> \n",
    "        <img src=\"https://www.oreilly.com/library/view/hands-on-machine-learning/9781491962282/assets/mlst_0403.png\" width=\"400\" height=\"200\"></img> \n",
    "        <br> <h4> Low Learning Rate </h4>\n",
    "    </td>\n",
    "</tr></table>"
   ]
  },
  {
   "cell_type": "markdown",
   "metadata": {},
   "source": [
    "## Gradient Descent\n",
    " \n",
    "The formula for the calculation of the gradient descent is:\n",
    " \n",
    "<img src=\"https://i2.wp.com/2.bp.blogspot.com/-ZxJ87cWjPJ8/TtLtwqv0hCI/AAAAAAAAAV0/9FYqcxJ6dNY/s320/gradient+descent+algorithm+OLS.png?zoom=1.25&resize=320%2C181\"></img>\n",
    " \n",
    "This means that the values of the weights (called theta or ϴ) are calculated using the loss function (Jϴ).\n",
    " \n",
    "The initial theta values are generated randomly and the loss function is calculated using them. The calculation is made as follows:\n",
    " \n",
    " \n",
    "<center>\n",
    "    Y-hat = ϴ<sub>0</sub> + x<sub>1</sub>ϴ<sub>1</sub> + … + x<sub>n</sub>ϴ<sub>n</sub>\n",
    "</center>\n",
    " \n",
    "Then the loss function is calculated. If the model did not converged (the global minima was not reached), we increase/decrease theta by the learning rate, and recalculate the newly predicted Y (Y-hat). This is repeated until the global minima is reached.\n",
    " \n"
   ]
  },
  {
   "cell_type": "code",
   "execution_count": 5,
   "metadata": {},
   "outputs": [],
   "source": [
    "### The gradient descent requires two values: learning rate and number of iterations.\n",
    "\n",
    "gradientDesc <- function(x, y, learn_rate=1e-6, max_iter=1e3) {\n",
    "  #plot(x, y, col = \"blue\", pch = 20)\n",
    "  conv_threshold <- 1e-4\n",
    "  n <- length(y)\n",
    "  m <- runif(1, 0, 1)\n",
    "  c <- runif(1, 0, 1) \n",
    "  yhat <- m * x + c\n",
    "# sum((y - pred)^2)/length(y)\n",
    "  MSE <- loss_function(y,yhat)\n",
    "  converged = F\n",
    "  iterations = 0\n",
    "  while(converged == F) {\n",
    "    ## Implement the gradient descent algorithm\n",
    "    m_new <- m - learn_rate * ((1 / n) * (sum((yhat - y) * x)))\n",
    "    c_new <- c - learn_rate * ((1 / n) * (sum(yhat - y)))\n",
    "    m <- m_new\n",
    "    c <- c_new\n",
    "    yhat <- m * x + c\n",
    "    MSE_new <- loss_function(y,yhat)\n",
    "    if(MSE - MSE_new <= conv_threshold) {\n",
    "      #abline(c, m) \n",
    "      converged = T\n",
    "      print(paste(\"Optimal intercept:\", c, \"Optimal slope:\", m))\n",
    "      return(data.frame(w=m,b=c,loss=MSE_new))\n",
    "    }\n",
    "    iterations = iterations + 1\n",
    "    if(iterations > max_iter) { \n",
    "      #abline(c, m) \n",
    "      converged = T\n",
    "      print(paste(\"Optimal intercept:\", c, \"Optimal slope:\", m))\n",
    "      return(data.frame(w=m,b=c,loss=MSE_new))\n",
    "    }\n",
    "  }\n",
    "}\n",
    "\n",
    "\n"
   ]
  },
  {
   "cell_type": "code",
   "execution_count": 16,
   "metadata": {},
   "outputs": [
    {
     "name": "stdout",
     "output_type": "stream",
     "text": [
      "[1] \"Optimal intercept: 29.5993255269919 Optimal slope: -0.0412133272874383\"\n"
     ]
    },
    {
     "data": {
      "text/html": [
       "<table>\n",
       "<caption>A data.frame: 1 × 3</caption>\n",
       "<thead>\n",
       "\t<tr><th scope=col>w</th><th scope=col>b</th><th scope=col>loss</th></tr>\n",
       "\t<tr><th scope=col>&lt;dbl&gt;</th><th scope=col>&lt;dbl&gt;</th><th scope=col>&lt;dbl&gt;</th></tr>\n",
       "</thead>\n",
       "<tbody>\n",
       "\t<tr><td>-0.04121333</td><td>29.59933</td><td>9.911209</td></tr>\n",
       "</tbody>\n",
       "</table>\n"
      ],
      "text/latex": [
       "A data.frame: 1 × 3\n",
       "\\begin{tabular}{r|lll}\n",
       " w & b & loss\\\\\n",
       " <dbl> & <dbl> & <dbl>\\\\\n",
       "\\hline\n",
       "\t -0.04121333 & 29.59933 & 9.911209\\\\\n",
       "\\end{tabular}\n"
      ],
      "text/markdown": [
       "\n",
       "A data.frame: 1 × 3\n",
       "\n",
       "| w &lt;dbl&gt; | b &lt;dbl&gt; | loss &lt;dbl&gt; |\n",
       "|---|---|---|\n",
       "| -0.04121333 | 29.59933 | 9.911209 |\n",
       "\n"
      ],
      "text/plain": [
       "  w           b        loss    \n",
       "1 -0.04121333 29.59933 9.911209"
      ]
     },
     "metadata": {},
     "output_type": "display_data"
    }
   ],
   "source": [
    "# Run the function \n",
    "gradientDesc(mtcars$disp, mtcars$mpg, 0.00002, 2500000)\n"
   ]
  },
  {
   "cell_type": "code",
   "execution_count": 14,
   "metadata": {},
   "outputs": [
    {
     "data": {
      "text/html": [
       "56316.8437943354"
      ],
      "text/latex": [
       "56316.8437943354"
      ],
      "text/markdown": [
       "56316.8437943354"
      ],
      "text/plain": [
       "[1] 56316.84"
      ]
     },
     "metadata": {},
     "output_type": "display_data"
    }
   ],
   "source": [
    "mod = lm (mtcars$disp ~ mtcars$mpg)\n",
    "y_hat = predict(mod)\n",
    "MSE = loss_function (mtcars$mpg, y_hat)\n",
    "MSE"
   ]
  },
  {
   "cell_type": "code",
   "execution_count": 15,
   "metadata": {},
   "outputs": [
    {
     "data": {
      "text/html": [
       "<dl class=dl-horizontal>\n",
       "\t<dt>(Intercept)</dt>\n",
       "\t\t<dd>29.5998547561639</dd>\n",
       "\t<dt>mtcars$disp</dt>\n",
       "\t\t<dd>-0.0412151199627861</dd>\n",
       "</dl>\n"
      ],
      "text/latex": [
       "\\begin{description*}\n",
       "\\item[(Intercept)] 29.5998547561639\n",
       "\\item[mtcars\\textbackslash{}\\$disp] -0.0412151199627861\n",
       "\\end{description*}\n"
      ],
      "text/markdown": [
       "(Intercept)\n",
       ":   29.5998547561639mtcars$disp\n",
       ":   -0.0412151199627861\n",
       "\n"
      ],
      "text/plain": [
       "(Intercept) mtcars$disp \n",
       "29.59985476 -0.04121512 "
      ]
     },
     "metadata": {},
     "output_type": "display_data"
    }
   ],
   "source": [
    "mod <- lm(mtcars$mpg ~ mtcars$disp)\n",
    "mod$coefficients"
   ]
  },
  {
   "cell_type": "code",
   "execution_count": 11,
   "metadata": {},
   "outputs": [
    {
     "name": "stderr",
     "output_type": "stream",
     "text": [
      "\n",
      "Attaching package: ‘dplyr’\n",
      "\n",
      "\n",
      "The following objects are masked from ‘package:stats’:\n",
      "\n",
      "    filter, lag\n",
      "\n",
      "\n",
      "The following objects are masked from ‘package:base’:\n",
      "\n",
      "    intersect, setdiff, setequal, union\n",
      "\n",
      "\n"
     ]
    },
    {
     "name": "stdout",
     "output_type": "stream",
     "text": [
      "[1] \"Optimal intercept: -18.2585650948474 Optimal slope: -5834.95595447871\"\n",
      "[1] \"Optimal intercept: -7.92684167393756 Optimal slope: -2568.13752029711\"\n",
      "[1] \"Optimal intercept: -0.186371478029192 Optimal slope: -281.422757087885\"\n",
      "[1] \"Optimal intercept: 0.487636438195972 Optimal slope: 1.42789798607575\"\n",
      "[1] \"Optimal intercept: 0.418099617565298 Optimal slope: -27.3514464195581\"\n",
      "[1] \"Optimal intercept: 0.0908445692838108 Optimal slope: -5.69844760443073\"\n",
      "[1] \"Optimal intercept: 0.021513247995519 Optimal slope: -4.37003773838234\"\n",
      "[1] \"Optimal intercept: 0.534517206885977 Optimal slope: -0.527656979625197\"\n",
      "[1] \"Optimal intercept: 29.477981825057 Optimal slope: -0.0408022957824675\"\n",
      "[1] \"Optimal intercept: 27.6857883707648 Optimal slope: -0.034731540061567\"\n",
      "[1] \"Optimal intercept: 12.9919357353395 Optimal slope: 0.0150414293324147\"\n"
     ]
    }
   ],
   "source": [
    "## iterating with the learning rate\n",
    "library(dplyr)\n",
    "res <- NULL\n",
    "learning_rate <- c(1e-1,5e-2,1e-2,5e-3,1e-3,5e-4,1e-4,5e-5,1e-5,5e-6,1e-6)\n",
    "for (lr in learning_rate) {\n",
    "    gd <- gradientDesc(mtcars$disp, mtcars$mpg, lr, 2500000)\n",
    "    res <- rbind(res, data.frame(cbind(learning_rate=lr, gd)))\n",
    "}\n"
   ]
  },
  {
   "cell_type": "code",
   "execution_count": 17,
   "metadata": {},
   "outputs": [
    {
     "data": {
      "text/html": [
       "<table>\n",
       "<caption>A data.frame: 11 × 4</caption>\n",
       "<thead>\n",
       "\t<tr><th scope=col>learning_rate</th><th scope=col>w</th><th scope=col>b</th><th scope=col>loss</th></tr>\n",
       "\t<tr><th scope=col>&lt;dbl&gt;</th><th scope=col>&lt;dbl&gt;</th><th scope=col>&lt;dbl&gt;</th><th scope=col>&lt;dbl&gt;</th></tr>\n",
       "</thead>\n",
       "<tbody>\n",
       "\t<tr><td>1e-06</td><td> 1.504143e-02</td><td> 12.99193574</td><td>7.017045e+01</td></tr>\n",
       "\t<tr><td>5e-06</td><td>-3.473154e-02</td><td> 27.68578837</td><td>1.071161e+01</td></tr>\n",
       "\t<tr><td>1e-05</td><td>-4.080230e-02</td><td> 29.47798183</td><td>9.914454e+00</td></tr>\n",
       "\t<tr><td>5e-05</td><td>-5.276570e-01</td><td>  0.53451721</td><td>2.349624e+04</td></tr>\n",
       "\t<tr><td>1e-04</td><td>-4.370038e+00</td><td>  0.02151325</td><td>1.336324e+06</td></tr>\n",
       "\t<tr><td>5e-04</td><td>-5.698448e+00</td><td>  0.09084457</td><td>2.257833e+06</td></tr>\n",
       "\t<tr><td>1e-03</td><td>-2.735145e+01</td><td>  0.41809962</td><td>5.117088e+07</td></tr>\n",
       "\t<tr><td>5e-03</td><td> 1.427898e+00</td><td>  0.48763644</td><td>1.281305e+05</td></tr>\n",
       "\t<tr><td>1e-02</td><td>-2.814228e+02</td><td> -0.18637148</td><td>5.396783e+09</td></tr>\n",
       "\t<tr><td>5e-02</td><td>-2.568138e+03</td><td> -7.92684167</td><td>4.492602e+11</td></tr>\n",
       "\t<tr><td>1e-01</td><td>-5.834956e+03</td><td>-18.25856509</td><td>2.319132e+12</td></tr>\n",
       "</tbody>\n",
       "</table>\n"
      ],
      "text/latex": [
       "A data.frame: 11 × 4\n",
       "\\begin{tabular}{r|llll}\n",
       " learning\\_rate & w & b & loss\\\\\n",
       " <dbl> & <dbl> & <dbl> & <dbl>\\\\\n",
       "\\hline\n",
       "\t 1e-06 &  1.504143e-02 &  12.99193574 & 7.017045e+01\\\\\n",
       "\t 5e-06 & -3.473154e-02 &  27.68578837 & 1.071161e+01\\\\\n",
       "\t 1e-05 & -4.080230e-02 &  29.47798183 & 9.914454e+00\\\\\n",
       "\t 5e-05 & -5.276570e-01 &   0.53451721 & 2.349624e+04\\\\\n",
       "\t 1e-04 & -4.370038e+00 &   0.02151325 & 1.336324e+06\\\\\n",
       "\t 5e-04 & -5.698448e+00 &   0.09084457 & 2.257833e+06\\\\\n",
       "\t 1e-03 & -2.735145e+01 &   0.41809962 & 5.117088e+07\\\\\n",
       "\t 5e-03 &  1.427898e+00 &   0.48763644 & 1.281305e+05\\\\\n",
       "\t 1e-02 & -2.814228e+02 &  -0.18637148 & 5.396783e+09\\\\\n",
       "\t 5e-02 & -2.568138e+03 &  -7.92684167 & 4.492602e+11\\\\\n",
       "\t 1e-01 & -5.834956e+03 & -18.25856509 & 2.319132e+12\\\\\n",
       "\\end{tabular}\n"
      ],
      "text/markdown": [
       "\n",
       "A data.frame: 11 × 4\n",
       "\n",
       "| learning_rate &lt;dbl&gt; | w &lt;dbl&gt; | b &lt;dbl&gt; | loss &lt;dbl&gt; |\n",
       "|---|---|---|---|\n",
       "| 1e-06 |  1.504143e-02 |  12.99193574 | 7.017045e+01 |\n",
       "| 5e-06 | -3.473154e-02 |  27.68578837 | 1.071161e+01 |\n",
       "| 1e-05 | -4.080230e-02 |  29.47798183 | 9.914454e+00 |\n",
       "| 5e-05 | -5.276570e-01 |   0.53451721 | 2.349624e+04 |\n",
       "| 1e-04 | -4.370038e+00 |   0.02151325 | 1.336324e+06 |\n",
       "| 5e-04 | -5.698448e+00 |   0.09084457 | 2.257833e+06 |\n",
       "| 1e-03 | -2.735145e+01 |   0.41809962 | 5.117088e+07 |\n",
       "| 5e-03 |  1.427898e+00 |   0.48763644 | 1.281305e+05 |\n",
       "| 1e-02 | -2.814228e+02 |  -0.18637148 | 5.396783e+09 |\n",
       "| 5e-02 | -2.568138e+03 |  -7.92684167 | 4.492602e+11 |\n",
       "| 1e-01 | -5.834956e+03 | -18.25856509 | 2.319132e+12 |\n",
       "\n"
      ],
      "text/plain": [
       "   learning_rate w             b            loss        \n",
       "1  1e-06          1.504143e-02  12.99193574 7.017045e+01\n",
       "2  5e-06         -3.473154e-02  27.68578837 1.071161e+01\n",
       "3  1e-05         -4.080230e-02  29.47798183 9.914454e+00\n",
       "4  5e-05         -5.276570e-01   0.53451721 2.349624e+04\n",
       "5  1e-04         -4.370038e+00   0.02151325 1.336324e+06\n",
       "6  5e-04         -5.698448e+00   0.09084457 2.257833e+06\n",
       "7  1e-03         -2.735145e+01   0.41809962 5.117088e+07\n",
       "8  5e-03          1.427898e+00   0.48763644 1.281305e+05\n",
       "9  1e-02         -2.814228e+02  -0.18637148 5.396783e+09\n",
       "10 5e-02         -2.568138e+03  -7.92684167 4.492602e+11\n",
       "11 1e-01         -5.834956e+03 -18.25856509 2.319132e+12"
      ]
     },
     "metadata": {},
     "output_type": "display_data"
    },
    {
     "data": {
      "image/png": "[encoded data removed]",
      "text/plain": [
       "plot without title"
      ]
     },
     "metadata": {
      "image/png": {
       "height": 180,
       "width": 240
      },
      "text/plain": {
       "height": 180,
       "width": 240
      }
     },
     "output_type": "display_data"
    },
    {
     "data": {
      "image/png": "[encoded data removed]",
      "text/plain": [
       "plot without title"
      ]
     },
     "metadata": {
      "image/png": {
       "height": 180,
       "width": 240
      },
      "text/plain": {
       "height": 180,
       "width": 240
      }
     },
     "output_type": "display_data"
    }
   ],
   "source": [
    "options(repr.plot.width = 4, repr.plot.height = 3)\n",
    "res <- res %>% arrange(learning_rate)\n",
    "res\n",
    "plot(res$loss ~ res$learning_rate, type=\"l\",\n",
    "     xlab=\"Learning rate\", ylab=\"Loss (MSE)\",\n",
    "     xlim = rev(range(res$learning_rate)))\n",
    "plot(log10(res$loss) ~ log10(res$learning_rate), type=\"l\",\n",
    "     xlab=\"Learning rate\", ylab=\"Loss (MSE)\",\n",
    "     xlim = rev(range(log10(res$learning_rate))))\n"
   ]
  },
  {
   "cell_type": "code",
   "execution_count": 18,
   "metadata": {},
   "outputs": [
    {
     "data": {
      "text/html": [
       "<ol class=list-inline>\n",
       "\t<li>1e-05</li>\n",
       "\t<li>2e-05</li>\n",
       "\t<li>3e-05</li>\n",
       "\t<li>5e-05</li>\n",
       "\t<li>6e-05</li>\n",
       "\t<li>7e-05</li>\n",
       "\t<li>8e-05</li>\n",
       "\t<li>9e-05</li>\n",
       "\t<li>1e-04</li>\n",
       "\t<li>2e-04</li>\n",
       "\t<li>3e-04</li>\n",
       "\t<li>5e-04</li>\n",
       "\t<li>6e-04</li>\n",
       "\t<li>7e-04</li>\n",
       "\t<li>8e-04</li>\n",
       "\t<li>9e-04</li>\n",
       "\t<li>0.001</li>\n",
       "</ol>\n"
      ],
      "text/latex": [
       "\\begin{enumerate*}\n",
       "\\item 1e-05\n",
       "\\item 2e-05\n",
       "\\item 3e-05\n",
       "\\item 5e-05\n",
       "\\item 6e-05\n",
       "\\item 7e-05\n",
       "\\item 8e-05\n",
       "\\item 9e-05\n",
       "\\item 1e-04\n",
       "\\item 2e-04\n",
       "\\item 3e-04\n",
       "\\item 5e-04\n",
       "\\item 6e-04\n",
       "\\item 7e-04\n",
       "\\item 8e-04\n",
       "\\item 9e-04\n",
       "\\item 0.001\n",
       "\\end{enumerate*}\n"
      ],
      "text/markdown": [
       "1. 1e-05\n",
       "2. 2e-05\n",
       "3. 3e-05\n",
       "4. 5e-05\n",
       "5. 6e-05\n",
       "6. 7e-05\n",
       "7. 8e-05\n",
       "8. 9e-05\n",
       "9. 1e-04\n",
       "10. 2e-04\n",
       "11. 3e-04\n",
       "12. 5e-04\n",
       "13. 6e-04\n",
       "14. 7e-04\n",
       "15. 8e-04\n",
       "16. 9e-04\n",
       "17. 0.001\n",
       "\n",
       "\n"
      ],
      "text/plain": [
       " [1] 1e-05 2e-05 3e-05 5e-05 6e-05 7e-05 8e-05 9e-05 1e-04 2e-04 3e-04 5e-04\n",
       "[13] 6e-04 7e-04 8e-04 9e-04 1e-03"
      ]
     },
     "metadata": {},
     "output_type": "display_data"
    }
   ],
   "source": [
    "learning_rate <- c(1e-5,2e-5,3e-5,5e-5,6e-5,7e-5,8e-5,9e-5,1e-4,2e-4,3e-4,5e-4,6e-4,7e-4,8e-4,9e-4,1e-3)\n",
    "learning_rate\n"
   ]
  },
  {
   "cell_type": "code",
   "execution_count": 19,
   "metadata": {},
   "outputs": [
    {
     "name": "stdout",
     "output_type": "stream",
     "text": [
      "[1] \"Optimal intercept: 29.4777241005739 Optimal slope: -0.0408014227838657\"\n",
      "[1] \"Optimal intercept: 29.599327736998 Optimal slope: -0.0412133347734645\"\n",
      "[1] \"Optimal intercept: 0.715258900523277 Optimal slope: -0.110570372995897\"\n",
      "[1] \"Optimal intercept: 0.99076366247778 Optimal slope: -0.361505031352864\"\n",
      "[1] \"Optimal intercept: 0.267007291837618 Optimal slope: -0.083643823353928\"\n",
      "[1] \"Optimal intercept: 0.124405948132404 Optimal slope: -0.711582569385121\"\n",
      "[1] \"Optimal intercept: 0.115411461994714 Optimal slope: 0.008031510509061\"\n",
      "[1] \"Optimal intercept: 0.405553461962117 Optimal slope: -4.6294284054606\"\n",
      "[1] \"Optimal intercept: 0.22227344511375 Optimal slope: -0.76395019745474\"\n",
      "[1] \"Optimal intercept: 0.176801191688642 Optimal slope: -6.12541321808277\"\n",
      "[1] \"Optimal intercept: 0.654665897143194 Optimal slope: -11.8627924636954\"\n",
      "[1] \"Optimal intercept: 0.715381600573724 Optimal slope: -27.8843347301228\"\n",
      "[1] \"Optimal intercept: 0.352716006286061 Optimal slope: -19.7268134232554\"\n",
      "[1] \"Optimal intercept: 0.576571011489958 Optimal slope: -35.3116091128515\"\n",
      "[1] \"Optimal intercept: 0.532904399522985 Optimal slope: -23.3185971948765\"\n",
      "[1] \"Optimal intercept: 0.328543044469338 Optimal slope: -24.430032261188\"\n",
      "[1] \"Optimal intercept: 0.234994552146816 Optimal slope: -47.4178944034482\"\n"
     ]
    }
   ],
   "source": [
    "res <- NULL\n",
    "for (lr in learning_rate) {\n",
    "    gd <- gradientDesc(mtcars$disp, mtcars$mpg, lr, 2500000)\n",
    "    res <- rbind(res, data.frame(cbind(learning_rate=lr, gd)))\n",
    "}\n"
   ]
  },
  {
   "cell_type": "code",
   "execution_count": 20,
   "metadata": {},
   "outputs": [
    {
     "data": {
      "text/html": [
       "<table>\n",
       "<caption>A data.frame: 17 × 4</caption>\n",
       "<thead>\n",
       "\t<tr><th scope=col>learning_rate</th><th scope=col>w</th><th scope=col>b</th><th scope=col>loss</th></tr>\n",
       "\t<tr><th scope=col>&lt;dbl&gt;</th><th scope=col>&lt;dbl&gt;</th><th scope=col>&lt;dbl&gt;</th><th scope=col>&lt;dbl&gt;</th></tr>\n",
       "</thead>\n",
       "<tbody>\n",
       "\t<tr><td>1e-05</td><td> -0.040801423</td><td>29.4777241</td><td>9.914468e+00</td></tr>\n",
       "\t<tr><td>2e-05</td><td> -0.041213335</td><td>29.5993277</td><td>9.911209e+00</td></tr>\n",
       "\t<tr><td>3e-05</td><td> -0.110570373</td><td> 0.7152589</td><td>2.096276e+03</td></tr>\n",
       "\t<tr><td>5e-05</td><td> -0.361505031</td><td> 0.9907637</td><td>1.204415e+04</td></tr>\n",
       "\t<tr><td>6e-05</td><td> -0.083643823</td><td> 0.2670073</td><td>1.567236e+03</td></tr>\n",
       "\t<tr><td>7e-05</td><td> -0.711582569</td><td> 0.1244059</td><td>4.060619e+04</td></tr>\n",
       "\t<tr><td>8e-05</td><td>  0.008031511</td><td> 0.1154115</td><td>3.744135e+02</td></tr>\n",
       "\t<tr><td>9e-05</td><td> -4.629428405</td><td> 0.4055535</td><td>1.496575e+06</td></tr>\n",
       "\t<tr><td>1e-04</td><td> -0.763950197</td><td> 0.2222734</td><td>4.624916e+04</td></tr>\n",
       "\t<tr><td>2e-04</td><td> -6.125413218</td><td> 0.1768012</td><td>2.604865e+06</td></tr>\n",
       "\t<tr><td>3e-04</td><td>-11.862792464</td><td> 0.6546659</td><td>9.677564e+06</td></tr>\n",
       "\t<tr><td>5e-04</td><td>-27.884334730</td><td> 0.7153816</td><td>5.317611e+07</td></tr>\n",
       "\t<tr><td>6e-04</td><td>-19.726813423</td><td> 0.3527160</td><td>2.666202e+07</td></tr>\n",
       "\t<tr><td>7e-04</td><td>-35.311609113</td><td> 0.5765710</td><td>8.520628e+07</td></tr>\n",
       "\t<tr><td>8e-04</td><td>-23.318597195</td><td> 0.5329044</td><td>3.721937e+07</td></tr>\n",
       "\t<tr><td>9e-04</td><td>-24.430032261</td><td> 0.3285430</td><td>4.084509e+07</td></tr>\n",
       "\t<tr><td>1e-03</td><td>-47.417894403</td><td> 0.2349946</td><td>1.535267e+08</td></tr>\n",
       "</tbody>\n",
       "</table>\n"
      ],
      "text/latex": [
       "A data.frame: 17 × 4\n",
       "\\begin{tabular}{r|llll}\n",
       " learning\\_rate & w & b & loss\\\\\n",
       " <dbl> & <dbl> & <dbl> & <dbl>\\\\\n",
       "\\hline\n",
       "\t 1e-05 &  -0.040801423 & 29.4777241 & 9.914468e+00\\\\\n",
       "\t 2e-05 &  -0.041213335 & 29.5993277 & 9.911209e+00\\\\\n",
       "\t 3e-05 &  -0.110570373 &  0.7152589 & 2.096276e+03\\\\\n",
       "\t 5e-05 &  -0.361505031 &  0.9907637 & 1.204415e+04\\\\\n",
       "\t 6e-05 &  -0.083643823 &  0.2670073 & 1.567236e+03\\\\\n",
       "\t 7e-05 &  -0.711582569 &  0.1244059 & 4.060619e+04\\\\\n",
       "\t 8e-05 &   0.008031511 &  0.1154115 & 3.744135e+02\\\\\n",
       "\t 9e-05 &  -4.629428405 &  0.4055535 & 1.496575e+06\\\\\n",
       "\t 1e-04 &  -0.763950197 &  0.2222734 & 4.624916e+04\\\\\n",
       "\t 2e-04 &  -6.125413218 &  0.1768012 & 2.604865e+06\\\\\n",
       "\t 3e-04 & -11.862792464 &  0.6546659 & 9.677564e+06\\\\\n",
       "\t 5e-04 & -27.884334730 &  0.7153816 & 5.317611e+07\\\\\n",
       "\t 6e-04 & -19.726813423 &  0.3527160 & 2.666202e+07\\\\\n",
       "\t 7e-04 & -35.311609113 &  0.5765710 & 8.520628e+07\\\\\n",
       "\t 8e-04 & -23.318597195 &  0.5329044 & 3.721937e+07\\\\\n",
       "\t 9e-04 & -24.430032261 &  0.3285430 & 4.084509e+07\\\\\n",
       "\t 1e-03 & -47.417894403 &  0.2349946 & 1.535267e+08\\\\\n",
       "\\end{tabular}\n"
      ],
      "text/markdown": [
       "\n",
       "A data.frame: 17 × 4\n",
       "\n",
       "| learning_rate &lt;dbl&gt; | w &lt;dbl&gt; | b &lt;dbl&gt; | loss &lt;dbl&gt; |\n",
       "|---|---|---|---|\n",
       "| 1e-05 |  -0.040801423 | 29.4777241 | 9.914468e+00 |\n",
       "| 2e-05 |  -0.041213335 | 29.5993277 | 9.911209e+00 |\n",
       "| 3e-05 |  -0.110570373 |  0.7152589 | 2.096276e+03 |\n",
       "| 5e-05 |  -0.361505031 |  0.9907637 | 1.204415e+04 |\n",
       "| 6e-05 |  -0.083643823 |  0.2670073 | 1.567236e+03 |\n",
       "| 7e-05 |  -0.711582569 |  0.1244059 | 4.060619e+04 |\n",
       "| 8e-05 |   0.008031511 |  0.1154115 | 3.744135e+02 |\n",
       "| 9e-05 |  -4.629428405 |  0.4055535 | 1.496575e+06 |\n",
       "| 1e-04 |  -0.763950197 |  0.2222734 | 4.624916e+04 |\n",
       "| 2e-04 |  -6.125413218 |  0.1768012 | 2.604865e+06 |\n",
       "| 3e-04 | -11.862792464 |  0.6546659 | 9.677564e+06 |\n",
       "| 5e-04 | -27.884334730 |  0.7153816 | 5.317611e+07 |\n",
       "| 6e-04 | -19.726813423 |  0.3527160 | 2.666202e+07 |\n",
       "| 7e-04 | -35.311609113 |  0.5765710 | 8.520628e+07 |\n",
       "| 8e-04 | -23.318597195 |  0.5329044 | 3.721937e+07 |\n",
       "| 9e-04 | -24.430032261 |  0.3285430 | 4.084509e+07 |\n",
       "| 1e-03 | -47.417894403 |  0.2349946 | 1.535267e+08 |\n",
       "\n"
      ],
      "text/plain": [
       "   learning_rate w             b          loss        \n",
       "1  1e-05          -0.040801423 29.4777241 9.914468e+00\n",
       "2  2e-05          -0.041213335 29.5993277 9.911209e+00\n",
       "3  3e-05          -0.110570373  0.7152589 2.096276e+03\n",
       "4  5e-05          -0.361505031  0.9907637 1.204415e+04\n",
       "5  6e-05          -0.083643823  0.2670073 1.567236e+03\n",
       "6  7e-05          -0.711582569  0.1244059 4.060619e+04\n",
       "7  8e-05           0.008031511  0.1154115 3.744135e+02\n",
       "8  9e-05          -4.629428405  0.4055535 1.496575e+06\n",
       "9  1e-04          -0.763950197  0.2222734 4.624916e+04\n",
       "10 2e-04          -6.125413218  0.1768012 2.604865e+06\n",
       "11 3e-04         -11.862792464  0.6546659 9.677564e+06\n",
       "12 5e-04         -27.884334730  0.7153816 5.317611e+07\n",
       "13 6e-04         -19.726813423  0.3527160 2.666202e+07\n",
       "14 7e-04         -35.311609113  0.5765710 8.520628e+07\n",
       "15 8e-04         -23.318597195  0.5329044 3.721937e+07\n",
       "16 9e-04         -24.430032261  0.3285430 4.084509e+07\n",
       "17 1e-03         -47.417894403  0.2349946 1.535267e+08"
      ]
     },
     "metadata": {},
     "output_type": "display_data"
    },
    {
     "data": {
      "image/png": "[encoded data removed]",
      "text/plain": [
       "plot without title"
      ]
     },
     "metadata": {
      "image/png": {
       "height": 240,
       "width": 360
      },
      "text/plain": {
       "height": 240,
       "width": 360
      }
     },
     "output_type": "display_data"
    },
    {
     "data": {
      "image/png": "[encoded data removed]",
      "text/plain": [
       "plot without title"
      ]
     },
     "metadata": {
      "image/png": {
       "height": 240,
       "width": 360
      },
      "text/plain": {
       "height": 240,
       "width": 360
      }
     },
     "output_type": "display_data"
    }
   ],
   "source": [
    "library(dplyr)\n",
    "res <- res %>% arrange(learning_rate) \n",
    "res\n",
    "options(repr.plot.width = 6, repr.plot.height = 4)\n",
    "plot(res$loss ~ res$learning_rate, type=\"l\",\n",
    "     xlab=\"Learning rate\", ylab=\"Loss (MSE)\",\n",
    "     xlim = rev(range(res$learning_rate)))\n",
    "plot(log10(res$loss) ~ log10(res$learning_rate), type=\"l\",\n",
    "     xlab=\"Learning rate\", ylab=\"Loss (MSE)\",\n",
    "     xlim = rev(range(log10(res$learning_rate))))"
   ]
  },
  {
   "cell_type": "code",
   "execution_count": 21,
   "metadata": {},
   "outputs": [
    {
     "name": "stdout",
     "output_type": "stream",
     "text": [
      "[1] \"Optimal intercept: 0.323037809114199 Optimal slope: 0.05795787424382\"\n",
      "[1] \"Optimal intercept: 0.851220897436055 Optimal slope: 0.0561660712517962\"\n",
      "[1] \"Optimal intercept: 0.949167659669649 Optimal slope: 0.055834292968738\"\n",
      "[1] \"Optimal intercept: 0.466475964741044 Optimal slope: 0.0574693303925167\"\n",
      "[1] \"Optimal intercept: 0.457584112984775 Optimal slope: 0.0574994500538677\"\n",
      "[1] \"Optimal intercept: 3.88749908115444 Optimal slope: 0.0458811864867562\"\n",
      "[1] \"Optimal intercept: 1.42823803468226 Optimal slope: 0.0542115221607894\"\n",
      "[1] \"Optimal intercept: 19.9856904124431 Optimal slope: -0.00864874547260983\"\n",
      "[1] \"Optimal intercept: 6.45852241347723 Optimal slope: 0.0371722747529881\"\n",
      "[1] \"Optimal intercept: 29.5993299168557 Optimal slope: -0.0412133421573681\"\n",
      "[1] \"Optimal intercept: 26.3637959667163 Optimal slope: -0.0302535117936676\"\n",
      "[1] \"Optimal intercept: 29.599326369638 Optimal slope: -0.0412133301417612\"\n",
      "[1] \"Optimal intercept: 29.599854746556 Optimal slope: -0.0412151199302407\"\n"
     ]
    }
   ],
   "source": [
    "## iterating with the number of iterations\n",
    "library(dplyr)\n",
    "res <- NULL\n",
    "number_iterations <- c(1e1,5e2,1e2,5e3,1e3,5e4,1e4,5e5,1e5,5e6,1e6,5e6,1e7)\n",
    "for (iter in number_iterations) {\n",
    "    gd <- gradientDesc(mtcars$disp, mtcars$mpg, 1e-5, iter)\n",
    "    res <- rbind(res, data.frame(cbind(num_iter=iter, gd)))\n",
    "}\n"
   ]
  },
  {
   "cell_type": "code",
   "execution_count": 22,
   "metadata": {},
   "outputs": [
    {
     "data": {
      "text/html": [
       "<table>\n",
       "<caption>A data.frame: 13 × 4</caption>\n",
       "<thead>\n",
       "\t<tr><th scope=col>num_iter</th><th scope=col>w</th><th scope=col>b</th><th scope=col>loss</th></tr>\n",
       "\t<tr><th scope=col>&lt;dbl&gt;</th><th scope=col>&lt;dbl&gt;</th><th scope=col>&lt;dbl&gt;</th><th scope=col>&lt;dbl&gt;</th></tr>\n",
       "</thead>\n",
       "<tbody>\n",
       "\t<tr><td>1e+01</td><td> 0.057957874</td><td> 0.3230378</td><td>197.169462</td></tr>\n",
       "\t<tr><td>1e+02</td><td> 0.055834293</td><td> 0.9491677</td><td>189.245498</td></tr>\n",
       "\t<tr><td>5e+02</td><td> 0.056166071</td><td> 0.8512209</td><td>190.473757</td></tr>\n",
       "\t<tr><td>1e+03</td><td> 0.057499450</td><td> 0.4575841</td><td>195.452266</td></tr>\n",
       "\t<tr><td>5e+03</td><td> 0.057469330</td><td> 0.4664760</td><td>195.339059</td></tr>\n",
       "\t<tr><td>1e+04</td><td> 0.054211522</td><td> 1.4282380</td><td>183.298313</td></tr>\n",
       "\t<tr><td>5e+04</td><td> 0.045881186</td><td> 3.8874991</td><td>154.347719</td></tr>\n",
       "\t<tr><td>1e+05</td><td> 0.037172275</td><td> 6.4585224</td><td>126.906928</td></tr>\n",
       "\t<tr><td>5e+05</td><td>-0.008648745</td><td>19.9856904</td><td> 30.104929</td></tr>\n",
       "\t<tr><td>1e+06</td><td>-0.030253512</td><td>26.3637960</td><td> 12.199051</td></tr>\n",
       "\t<tr><td>5e+06</td><td>-0.041213342</td><td>29.5993299</td><td>  9.911209</td></tr>\n",
       "\t<tr><td>5e+06</td><td>-0.041213330</td><td>29.5993264</td><td>  9.911209</td></tr>\n",
       "\t<tr><td>1e+07</td><td>-0.041215120</td><td>29.5998547</td><td>  9.911209</td></tr>\n",
       "</tbody>\n",
       "</table>\n"
      ],
      "text/latex": [
       "A data.frame: 13 × 4\n",
       "\\begin{tabular}{r|llll}\n",
       " num\\_iter & w & b & loss\\\\\n",
       " <dbl> & <dbl> & <dbl> & <dbl>\\\\\n",
       "\\hline\n",
       "\t 1e+01 &  0.057957874 &  0.3230378 & 197.169462\\\\\n",
       "\t 1e+02 &  0.055834293 &  0.9491677 & 189.245498\\\\\n",
       "\t 5e+02 &  0.056166071 &  0.8512209 & 190.473757\\\\\n",
       "\t 1e+03 &  0.057499450 &  0.4575841 & 195.452266\\\\\n",
       "\t 5e+03 &  0.057469330 &  0.4664760 & 195.339059\\\\\n",
       "\t 1e+04 &  0.054211522 &  1.4282380 & 183.298313\\\\\n",
       "\t 5e+04 &  0.045881186 &  3.8874991 & 154.347719\\\\\n",
       "\t 1e+05 &  0.037172275 &  6.4585224 & 126.906928\\\\\n",
       "\t 5e+05 & -0.008648745 & 19.9856904 &  30.104929\\\\\n",
       "\t 1e+06 & -0.030253512 & 26.3637960 &  12.199051\\\\\n",
       "\t 5e+06 & -0.041213342 & 29.5993299 &   9.911209\\\\\n",
       "\t 5e+06 & -0.041213330 & 29.5993264 &   9.911209\\\\\n",
       "\t 1e+07 & -0.041215120 & 29.5998547 &   9.911209\\\\\n",
       "\\end{tabular}\n"
      ],
      "text/markdown": [
       "\n",
       "A data.frame: 13 × 4\n",
       "\n",
       "| num_iter &lt;dbl&gt; | w &lt;dbl&gt; | b &lt;dbl&gt; | loss &lt;dbl&gt; |\n",
       "|---|---|---|---|\n",
       "| 1e+01 |  0.057957874 |  0.3230378 | 197.169462 |\n",
       "| 1e+02 |  0.055834293 |  0.9491677 | 189.245498 |\n",
       "| 5e+02 |  0.056166071 |  0.8512209 | 190.473757 |\n",
       "| 1e+03 |  0.057499450 |  0.4575841 | 195.452266 |\n",
       "| 5e+03 |  0.057469330 |  0.4664760 | 195.339059 |\n",
       "| 1e+04 |  0.054211522 |  1.4282380 | 183.298313 |\n",
       "| 5e+04 |  0.045881186 |  3.8874991 | 154.347719 |\n",
       "| 1e+05 |  0.037172275 |  6.4585224 | 126.906928 |\n",
       "| 5e+05 | -0.008648745 | 19.9856904 |  30.104929 |\n",
       "| 1e+06 | -0.030253512 | 26.3637960 |  12.199051 |\n",
       "| 5e+06 | -0.041213342 | 29.5993299 |   9.911209 |\n",
       "| 5e+06 | -0.041213330 | 29.5993264 |   9.911209 |\n",
       "| 1e+07 | -0.041215120 | 29.5998547 |   9.911209 |\n",
       "\n"
      ],
      "text/plain": [
       "   num_iter w            b          loss      \n",
       "1  1e+01     0.057957874  0.3230378 197.169462\n",
       "2  1e+02     0.055834293  0.9491677 189.245498\n",
       "3  5e+02     0.056166071  0.8512209 190.473757\n",
       "4  1e+03     0.057499450  0.4575841 195.452266\n",
       "5  5e+03     0.057469330  0.4664760 195.339059\n",
       "6  1e+04     0.054211522  1.4282380 183.298313\n",
       "7  5e+04     0.045881186  3.8874991 154.347719\n",
       "8  1e+05     0.037172275  6.4585224 126.906928\n",
       "9  5e+05    -0.008648745 19.9856904  30.104929\n",
       "10 1e+06    -0.030253512 26.3637960  12.199051\n",
       "11 5e+06    -0.041213342 29.5993299   9.911209\n",
       "12 5e+06    -0.041213330 29.5993264   9.911209\n",
       "13 1e+07    -0.041215120 29.5998547   9.911209"
      ]
     },
     "metadata": {},
     "output_type": "display_data"
    },
    {
     "data": {
      "image/png": "[encoded data removed]",
      "text/plain": [
       "plot without title"
      ]
     },
     "metadata": {
      "image/png": {
       "height": 240,
       "width": 360
      },
      "text/plain": {
       "height": 240,
       "width": 360
      }
     },
     "output_type": "display_data"
    },
    {
     "data": {
      "image/png": "[encoded data removed]",
      "text/plain": [
       "plot without title"
      ]
     },
     "metadata": {
      "image/png": {
       "height": 240,
       "width": 360
      },
      "text/plain": {
       "height": 240,
       "width": 360
      }
     },
     "output_type": "display_data"
    }
   ],
   "source": [
    "res <- res %>% arrange(num_iter)\n",
    "res\n",
    "options(repr.plot.width = 6, repr.plot.height = 4)\n",
    "plot(res$loss ~ res$num_iter, type=\"l\",xlab=\"Number of iterations\", ylab=\"Loss (MSE)\")\n",
    "plot(log10(res$loss) ~ log10(res$num_iter), type=\"l\",xlab=\"Number of iterations\", ylab=\"Loss (MSE)\")"
   ]
  },
  {
   "cell_type": "code",
   "execution_count": null,
   "metadata": {},
   "outputs": [],
   "source": []
  }
 ],
 "metadata": {
  "kernelspec": {
   "display_name": "R",
   "language": "R",
   "name": "ir"
  },
  "language_info": {
   "codemirror_mode": "r",
   "file_extension": ".r",
   "mimetype": "text/x-r-source",
   "name": "R",
   "pygments_lexer": "r",
   "version": "3.6.1"
  }
 },
 "nbformat": 4,
 "nbformat_minor": 2
}
