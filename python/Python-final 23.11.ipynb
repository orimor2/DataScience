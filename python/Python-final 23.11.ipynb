{
 "cells": [
  {
   "cell_type": "markdown",
   "metadata": {},
   "source": [
    "# Python Intro - Final Exercise\n"
   ]
  },
  {
   "cell_type": "code",
   "execution_count": 1,
   "metadata": {},
   "outputs": [],
   "source": [
    "import pyodbc\n",
    "import pandas as pd\n",
    "import numpy as np"
   ]
  },
  {
   "cell_type": "code",
   "execution_count": 2,
   "metadata": {},
   "outputs": [],
   "source": [
    "import pyodbc\n",
    "conn = pyodbc.connect('Driver={ODBC Driver 17 for SQL Server};'\n",
    "                      'Server=RENT-PC\\SQLEXPRESS;'\n",
    "                      'Database=college12;'\n",
    "                      'Trusted_Connection=yes;')"
   ]
  },
  {
   "cell_type": "code",
   "execution_count": 49,
   "metadata": {},
   "outputs": [],
   "source": [
    "df_courses = pd.read_sql('''select * from dbo.courses  ''', conn)\n",
    "df_departments = pd.read_sql('''select * from dbo.departments   ''', conn)\n",
    "df_classrooms = pd.read_sql('''select * from dbo.classrooms  ''', conn)\n",
    "df_Students = pd.read_sql('''select * from dbo.Students  ''', conn)\n",
    "df_Teachers = pd.read_sql('''select * from dbo.Teachers  ''', conn)"
   ]
  },
  {
   "cell_type": "markdown",
   "metadata": {},
   "source": [
    "# Questions\n",
    " \n",
    " \n",
    "## Q1. Count the number of students on each department"
   ]
  },
  {
   "cell_type": "code",
   "execution_count": 4,
   "metadata": {},
   "outputs": [
    {
     "data": {
      "text/plain": [
       "DepartmentName\n",
       "Sport       81\n",
       "English     84\n",
       "Arts       137\n",
       "Science    200\n",
       "Name: StudentID, dtype: int64"
      ]
     },
     "execution_count": 4,
     "metadata": {},
     "output_type": "execute_result"
    }
   ],
   "source": [
    "result = pd.merge(df_courses, df_departments, on=['DepartmentId'])\n",
    "result1 = pd.merge(df_courses, df_classrooms, on=['CourseId'])\n",
    "pd.merge(result,result1).groupby(['DepartmentName'])['StudentID'].nunique().sort_values()"
   ]
  },
  {
   "cell_type": "markdown",
   "metadata": {},
   "source": [
    "## Q2. How many students have each course of the English department and the total number of students in the department?"
   ]
  },
  {
   "cell_type": "code",
   "execution_count": 1,
   "metadata": {},
   "outputs": [
    {
     "ename": "NameError",
     "evalue": "name 'df_courses' is not defined",
     "output_type": "error",
     "traceback": [
      "\u001b[1;31m---------------------------------------------------------------------------\u001b[0m",
      "\u001b[1;31mNameError\u001b[0m                                 Traceback (most recent call last)",
      "\u001b[1;32m<ipython-input-1-23f770a9a7a1>\u001b[0m in \u001b[0;36m<module>\u001b[1;34m\u001b[0m\n\u001b[1;32m----> 1\u001b[1;33m \u001b[0mdf_courses\u001b[0m\u001b[1;33m=\u001b[0m\u001b[0mdf_courses\u001b[0m\u001b[1;33m.\u001b[0m\u001b[0mnsmallest\u001b[0m\u001b[1;33m(\u001b[0m\u001b[1;36m3\u001b[0m\u001b[1;33m,\u001b[0m \u001b[1;34m'CourseId'\u001b[0m\u001b[1;33m)\u001b[0m\u001b[1;33m\u001b[0m\u001b[1;33m\u001b[0m\u001b[0m\n\u001b[0m\u001b[0;32m      2\u001b[0m \u001b[0mdf_classrooms\u001b[0m\u001b[1;33m.\u001b[0m\u001b[0mloc\u001b[0m\u001b[1;33m[\u001b[0m\u001b[1;33m(\u001b[0m\u001b[0mdf_classrooms\u001b[0m\u001b[1;33m[\u001b[0m\u001b[1;34m'CourseId'\u001b[0m\u001b[1;33m]\u001b[0m \u001b[1;33m<=\u001b[0m \u001b[1;36m3\u001b[0m\u001b[1;33m)\u001b[0m\u001b[1;33m]\u001b[0m\u001b[1;33m\u001b[0m\u001b[1;33m\u001b[0m\u001b[0m\n\u001b[0;32m      3\u001b[0m \u001b[0mpd\u001b[0m\u001b[1;33m.\u001b[0m\u001b[0mmerge\u001b[0m\u001b[1;33m(\u001b[0m\u001b[0mdf_courses\u001b[0m\u001b[1;33m,\u001b[0m \u001b[0mdf_classrooms\u001b[0m\u001b[1;33m,\u001b[0m \u001b[0mon\u001b[0m\u001b[1;33m=\u001b[0m\u001b[1;33m[\u001b[0m\u001b[1;34m'CourseId'\u001b[0m\u001b[1;33m]\u001b[0m\u001b[1;33m)\u001b[0m\u001b[1;33m.\u001b[0m\u001b[0mgroupby\u001b[0m\u001b[1;33m(\u001b[0m\u001b[1;33m[\u001b[0m\u001b[1;34m'CourseName'\u001b[0m\u001b[1;33m]\u001b[0m\u001b[1;33m)\u001b[0m\u001b[1;33m[\u001b[0m\u001b[1;34m'StudentID'\u001b[0m\u001b[1;33m]\u001b[0m\u001b[1;33m.\u001b[0m\u001b[0mnunique\u001b[0m\u001b[1;33m(\u001b[0m\u001b[1;33m)\u001b[0m\u001b[1;33m.\u001b[0m\u001b[0msort_values\u001b[0m\u001b[1;33m(\u001b[0m\u001b[1;33m)\u001b[0m\u001b[1;33m\u001b[0m\u001b[1;33m\u001b[0m\u001b[0m\n",
      "\u001b[1;31mNameError\u001b[0m: name 'df_courses' is not defined"
     ]
    }
   ],
   "source": [
    "df_courses=df_courses.nsmallest(3, 'CourseId')\n",
    "df_classrooms.loc[(df_classrooms['CourseId'] <= 3)]\n",
    "pd.merge(df_courses, df_classrooms, on=['CourseId']).groupby(['CourseName'])['StudentID'].nunique().sort_values()"
   ]
  },
  {
   "cell_type": "code",
   "execution_count": 23,
   "metadata": {},
   "outputs": [
    {
     "data": {
      "text/plain": [
       "84"
      ]
     },
     "execution_count": 23,
     "metadata": {},
     "output_type": "execute_result"
    }
   ],
   "source": [
    "pd.merge(df_courses, df_classrooms, on=['CourseId'])['StudentID'].nunique()"
   ]
  },
  {
   "cell_type": "markdown",
   "metadata": {},
   "source": [
    "## Q3. How many small (<22 students) and large (22+ students) classrooms are needed for the Science department?"
   ]
  },
  {
   "cell_type": "code",
   "execution_count": null,
   "metadata": {},
   "outputs": [],
   "source": [
    "Q3 = pd.DataFrame(classrooms.merge(courses[courses.DepartmentId == 2], on = 'CourseId'))\n",
    "Q3a= Q3.groupby('CourseName').agg({'StudentID' :'count'})\n",
    "Q3a.columns=['Total']\n",
    "Q3b = Q3a.copy()\n",
    "Q3b['Size'] = ''\n",
    "Q3b.loc[(Q3b['Total']<= 22),'Size']='Small'\n",
    "Q3b.loc[(Q3b['Total']> 22),'Size']='Big'\n",
    "Q3b.groupby('Size').agg({'Size':['count']})"
   ]
  },
  {
   "cell_type": "markdown",
   "metadata": {},
   "source": [
    "## Q4. A feminist student claims that there are more male than female in the College. Justify if the argument is correct"
   ]
  },
  {
   "cell_type": "code",
   "execution_count": 32,
   "metadata": {},
   "outputs": [
    {
     "data": {
      "text/plain": [
       "Student_by_gender\n",
       "F    165\n",
       "M    115\n",
       "Name: StudentID, dtype: int64"
      ]
     },
     "execution_count": 32,
     "metadata": {},
     "output_type": "execute_result"
    }
   ],
   "source": [
    "Students = df_Students \n",
    "Students = Students.rename(columns={\"Gender\": \"Student_by_gender\"})\n",
    "Students.groupby(['Student_by_gender'])['StudentID'].nunique()"
   ]
  },
  {
   "cell_type": "markdown",
   "metadata": {},
   "source": [
    "## Q5. For which courses the percentage of male/female students is over 70%?"
   ]
  },
  {
   "cell_type": "code",
   "execution_count": null,
   "metadata": {},
   "outputs": [],
   "source": [
    "Q5 = pd.merge (students ,classroms)"
   ]
  },
  {
   "cell_type": "markdown",
   "metadata": {},
   "source": [
    "## Q6. For each department, how many students passed with a grades over 80?"
   ]
  },
  {
   "cell_type": "code",
   "execution_count": 82,
   "metadata": {},
   "outputs": [
    {
     "data": {
      "text/plain": [
       "DepartmentName\n",
       "Arts        68\n",
       "English     43\n",
       "Science    171\n",
       "Sport       41\n",
       "Name: StudentID, dtype: int64"
      ]
     },
     "execution_count": 82,
     "metadata": {},
     "output_type": "execute_result"
    }
   ],
   "source": [
    "result = pd.merge(df_courses, df_departments, on=['DepartmentId'])\n",
    "classrooms = df_classrooms.loc[(df_classrooms['degree'] >= 80) ]\n",
    "pd.merge(result,classrooms, on=['CourseId']).groupby(['DepartmentName'])['StudentID'].count()"
   ]
  },
  {
   "cell_type": "markdown",
   "metadata": {},
   "source": [
    "## Q7. For each department, how many students passed with a grades under 60?"
   ]
  },
  {
   "cell_type": "code",
   "execution_count": null,
   "metadata": {},
   "outputs": [],
   "source": [
    "Q7 = pd.merge(classrooms, courses, on = 'CourseId').merge(departments, on ='DepartmentId')\n",
    "Q7a = Q7.copy()\n",
    "Q7a = Q7a[Q7a.degree<60]\n",
    "Q7a.groupby(['DepartmentName']).agg({'StudentID' :pd.Series.nunique})"
   ]
  },
  {
   "cell_type": "markdown",
   "metadata": {},
   "source": [
    "## Q8. Rate the teachers by their average student's grades (in descending order)."
   ]
  },
  {
   "cell_type": "code",
   "execution_count": null,
   "metadata": {},
   "outputs": [],
   "source": [
    "Q8 = pd.merge(courses, classrooms ,on = 'CourseId', how = 'left').merge(teachers, on = 'TeacherId', how = 'left')\n",
    "Q8a = Q8.groupby(['TeacherId', 'FirstName', 'LastName']).agg({'degree' :'mean'})\n",
    "Q8b = Q8a.sort_values('degree', ascending=False)\n",
    "Q8b"
   ]
  },
  {
   "cell_type": "markdown",
   "metadata": {},
   "source": [
    "## Q9. Create a dataframe showing the courses, departments they are associated with, the teacher in each course, and the number of students enrolled in the course (for each course, department and teacher show the names)."
   ]
  },
  {
   "cell_type": "code",
   "execution_count": null,
   "metadata": {},
   "outputs": [],
   "source": [
    "Q9 = pd.merge(courses, classrooms ,on = 'CourseId', how = 'left').merge(teachers, on = 'TeacherId', how = 'left').merge(departments, on = 'DepartmentId', how = 'left')\n",
    "Q9a = Q9[['DepartmentName', 'CourseName', 'FirstName', 'StudentID']]\n",
    "Q9b = Q9a.groupby(['DepartmentName', 'CourseName', 'FirstName']).agg({'StudentID' :'count'})\n",
    "Q9b.rename(columns={'StudentID':'NumOfStudents'}, inplace=True)\n",
    "Q9b\n"
   ]
  },
  {
   "cell_type": "markdown",
   "metadata": {},
   "source": [
    "## Q10. Create a dataframe showing the students, the number of courses they take, the average of the grades per class, and their overall average (for each student show the student name)."
   ]
  },
  {
   "cell_type": "code",
   "execution_count": null,
   "metadata": {},
   "outputs": [],
   "source": [
    "Q10 = pd.merge(students, classrooms ,on = 'StudentID', how = 'left')\n",
    "Q10a = Q10[['StudentID', 'FirstName', 'LastName', 'CourseId','degree']]\n",
    "Q10b = Q10a.groupby(['FirstName', 'LastName']).agg({'degree' :'mean','CourseId':'count'})\n",
    "Q10b.rename(columns={'CourseId':'NumOfCourses', 'degree': 'TotalAVG'}, inplace=True)\n",
    "Q10b.head(10)"
   ]
  }
 ],
 "metadata": {
  "kernelspec": {
   "display_name": "Python 3",
   "language": "python",
   "name": "python3"
  },
  "language_info": {
   "codemirror_mode": {
    "name": "ipython",
    "version": 3
   },
   "file_extension": ".py",
   "mimetype": "text/x-python",
   "name": "python",
   "nbconvert_exporter": "python",
   "pygments_lexer": "ipython3",
   "version": "3.7.4"
  }
 },
 "nbformat": 4,
 "nbformat_minor": 2
}
